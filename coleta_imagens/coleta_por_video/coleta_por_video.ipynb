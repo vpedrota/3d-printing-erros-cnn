{
 "cells": [
  {
   "cell_type": "code",
   "execution_count": null,
   "metadata": {},
   "outputs": [],
   "source": [
    "from picamera import PiCamera\n",
    "from time import sleep\n",
    "\n",
    "camera = PiCamera()\n",
    "camera.resolution = (1920, 1080)  # Ajuste conforme necessário\n",
    "camera.framerate = 30\n",
    "\n",
    "camera.start_preview()\n",
    "# Dá um tempo para a câmera aquecer\n",
    "sleep(2)\n",
    "camera.start_recording('video.h264')\n",
    "sleep(10)  # Duração do vídeo em segundos\n",
    "camera.stop_recording()\n",
    "camera.stop_preview()"
   ]
  }
 ],
 "metadata": {
  "language_info": {
   "name": "python"
  }
 },
 "nbformat": 4,
 "nbformat_minor": 2
}
