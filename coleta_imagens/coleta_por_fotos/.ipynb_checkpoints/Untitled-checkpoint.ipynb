{
 "cells": [
  {
   "cell_type": "code",
   "execution_count": 3,
   "id": "3ad697d2-c055-49a6-bdb5-f3eb133ce0cf",
   "metadata": {},
   "outputs": [
    {
     "ename": "NameError",
     "evalue": "name 'camera' is not defined",
     "output_type": "error",
     "traceback": [
      "\u001b[0;31m---------------------------------------------------------------------------\u001b[0m",
      "\u001b[0;31mNameError\u001b[0m                                 Traceback (most recent call last)",
      "\u001b[0;32m<ipython-input-3-12911b604789>\u001b[0m in \u001b[0;36m<module>\u001b[0;34m\u001b[0m\n\u001b[1;32m     14\u001b[0m \u001b[0;32mtry\u001b[0m\u001b[0;34m:\u001b[0m\u001b[0;34m\u001b[0m\u001b[0;34m\u001b[0m\u001b[0m\n\u001b[1;32m     15\u001b[0m     \u001b[0;31m#camera = picamera.PiCamera()\u001b[0m\u001b[0;34m\u001b[0m\u001b[0;34m\u001b[0m\u001b[0;34m\u001b[0m\u001b[0m\n\u001b[0;32m---> 16\u001b[0;31m     \u001b[0mcamera\u001b[0m\u001b[0;34m.\u001b[0m\u001b[0mresolution\u001b[0m \u001b[0;34m=\u001b[0m \u001b[0;34m(\u001b[0m\u001b[0;36m640\u001b[0m\u001b[0;34m,\u001b[0m \u001b[0;36m480\u001b[0m\u001b[0;34m)\u001b[0m\u001b[0;34m\u001b[0m\u001b[0;34m\u001b[0m\u001b[0m\n\u001b[0m\u001b[1;32m     17\u001b[0m     \u001b[0;31m# Start a preview and let the camera warm up for 2 seconds\u001b[0m\u001b[0;34m\u001b[0m\u001b[0;34m\u001b[0m\u001b[0;34m\u001b[0m\u001b[0m\n\u001b[1;32m     18\u001b[0m     \u001b[0mcamera\u001b[0m\u001b[0;34m.\u001b[0m\u001b[0mstart_preview\u001b[0m\u001b[0;34m(\u001b[0m\u001b[0;34m)\u001b[0m\u001b[0;34m\u001b[0m\u001b[0;34m\u001b[0m\u001b[0m\n",
      "\u001b[0;31mNameError\u001b[0m: name 'camera' is not defined"
     ]
    }
   ],
   "source": [
    "import io\n",
    "import socket\n",
    "import struct\n",
    "import time\n",
    "import picamera\n",
    "\n",
    "# Connect a client socket to my_server:8000 (change my_server to the\n",
    "# hostname of your server)\n",
    "client_socket = socket.socket()\n",
    "client_socket.connect(('0.0.0.0', 8000))\n",
    "\n",
    "# Make a file-like object out of the connection\n",
    "connection = client_socket.makefile('wb')\n",
    "try:\n",
    "    camera = picamera.PiCamera()\n",
    "    camera.resolution = (640, 480)\n",
    "    # Start a preview and let the camera warm up for 2 seconds\n",
    "    camera.start_preview()\n",
    "    time.sleep(2)\n",
    "\n",
    "    # Note the start time and construct a stream to hold image data\n",
    "    # temporarily (we could write it directly to connection but in this\n",
    "    # case we want to find out the size of each capture first to keep\n",
    "    # our protocol simple)\n",
    "    start = time.time()\n",
    "    stream = io.BytesIO()\n",
    "    for foo in camera.capture_continuous(stream, 'jpeg'):\n",
    "        # Write the length of the capture to the stream and flush to\n",
    "        # ensure it actually gets sent\n",
    "        connection.write(struct.pack('<L', stream.tell()))\n",
    "        connection.flush()\n",
    "        # Rewind the stream and send the image data over the wire\n",
    "        stream.seek(0)\n",
    "        connection.write(stream.read())\n",
    "        # If we've been capturing for more than 30 seconds, quit\n",
    "        if time.time() - start > 30:\n",
    "            break\n",
    "        # Reset the stream for the next capture\n",
    "        stream.seek(0)\n",
    "        stream.truncate()\n",
    "    # Write a length of zero to the stream to signal we're done\n",
    "    connection.write(struct.pack('<L', 0))\n",
    "finally:\n",
    "    connection.close()\n",
    "    client_socket.close()"
   ]
  },
  {
   "cell_type": "code",
   "execution_count": null,
   "id": "01503af4-df04-4187-9d41-5ecf63735016",
   "metadata": {},
   "outputs": [],
   "source": []
  }
 ],
 "metadata": {
  "kernelspec": {
   "display_name": "Python 3",
   "language": "python",
   "name": "python3"
  },
  "language_info": {
   "codemirror_mode": {
    "name": "ipython",
    "version": 3
   },
   "file_extension": ".py",
   "mimetype": "text/x-python",
   "name": "python",
   "nbconvert_exporter": "python",
   "pygments_lexer": "ipython3",
   "version": "3.9.2"
  }
 },
 "nbformat": 4,
 "nbformat_minor": 5
}
